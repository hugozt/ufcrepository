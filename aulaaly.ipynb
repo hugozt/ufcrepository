{
  "nbformat": 4,
  "nbformat_minor": 0,
  "metadata": {
    "colab": {
      "provenance": [],
      "authorship_tag": "ABX9TyNQzIFi1GOMMnjcSIYiJkGv",
      "include_colab_link": true
    },
    "kernelspec": {
      "name": "python3",
      "display_name": "Python 3"
    },
    "language_info": {
      "name": "python"
    }
  },
  "cells": [
    {
      "cell_type": "markdown",
      "metadata": {
        "id": "view-in-github",
        "colab_type": "text"
      },
      "source": [
        "<a href=\"https://colab.research.google.com/github/hugozt/ufcrepository/blob/main/aulaaly.ipynb\" target=\"_parent\"><img src=\"https://colab.research.google.com/assets/colab-badge.svg\" alt=\"Open In Colab\"/></a>"
      ]
    },
    {
      "cell_type": "code",
      "execution_count": null,
      "metadata": {
        "id": "TJoUU9lgGmKM"
      },
      "outputs": [],
      "source": [
        "hall = 11.25\n",
        "kit = 18.0\n",
        "liv = 20.0\n",
        "bed = 10.75\n",
        "bath = 9.50\n",
        "\n",
        "areas = [hall, \"hallway\", kit, \"kitchen\", bed, bedroom]"
      ]
    },
    {
      "cell_type": "code",
      "source": [
        "hall = 11.25\n",
        "kit = 18.0\n",
        "liv = 20.0\n",
        "bed = 10.75\n",
        "bath = 9.50\n",
        "\n",
        "house = [[\"hallway\", hall],\n",
        "       [\"kitchen\",kit],\n",
        "       [\"living room\",liv]]\n",
        "print(house)\n",
        "type(house)\n",
        ""
      ],
      "metadata": {
        "colab": {
          "base_uri": "https://localhost:8080/"
        },
        "id": "XTzMHZLGH8be",
        "outputId": "d06cfca5-b381-439e-d5c4-b320e98eb0e1"
      },
      "execution_count": 6,
      "outputs": [
        {
          "output_type": "stream",
          "name": "stdout",
          "text": [
            "[['hallway', 11.25], ['kitchen', 18.0], ['living room', 20.0]]\n"
          ]
        },
        {
          "output_type": "execute_result",
          "data": {
            "text/plain": [
              "list"
            ]
          },
          "metadata": {},
          "execution_count": 6
        }
      ]
    },
    {
      "cell_type": "code",
      "source": [
        "fam = [\"liz\",1.73,\"emma\",1.68,\"mom\",1.71,\"dad\",1.89]\n",
        "fam [3]\n",
        "fam [-1]\n",
        "fam[-2]\n",
        "print(\"tamanho da lista\",len(fam))\n",
        "fam[:6]\n",
        "fam[2:6]"
      ],
      "metadata": {
        "colab": {
          "base_uri": "https://localhost:8080/"
        },
        "id": "tQLOdiiWJtlG",
        "outputId": "3ceb491c-da93-4e63-b25e-474a401380ab"
      },
      "execution_count": 14,
      "outputs": [
        {
          "output_type": "stream",
          "name": "stdout",
          "text": [
            "tamanho da lista 8\n"
          ]
        },
        {
          "output_type": "execute_result",
          "data": {
            "text/plain": [
              "['emma', 1.68, 'mom', 1.71]"
            ]
          },
          "metadata": {},
          "execution_count": 14
        }
      ]
    },
    {
      "cell_type": "code",
      "source": [
        "areas = [\"hallway\",11.25,\"kitchen\", 18.0,\"living room\",20.0, \"bedroom\", 10.75, \"bathroom\", 9.50]\n",
        "\n",
        "print(areas[2])\n",
        "print(areas[-1])\n",
        "print(areas[5])"
      ],
      "metadata": {
        "colab": {
          "base_uri": "https://localhost:8080/"
        },
        "id": "03jNRPXDMVNw",
        "outputId": "0a40761c-4850-4fab-bfa1-b15504d489d3"
      },
      "execution_count": 16,
      "outputs": [
        {
          "output_type": "stream",
          "name": "stdout",
          "text": [
            "kitchen\n",
            "9.5\n",
            "20.0\n"
          ]
        }
      ]
    },
    {
      "cell_type": "code",
      "source": [
        "areas = [\"hallway\",11.25,\"kitchen\", 18.0,\"living room\",20.0, \"bedroom\", 10.75, \"bathroom\", 9.50]\n",
        "\n",
        "eat_sleep_area = areas[3] + areas[-3]\n",
        "print(eat_sleep_area)"
      ],
      "metadata": {
        "colab": {
          "base_uri": "https://localhost:8080/"
        },
        "id": "6IP9U5v3Nwb3",
        "outputId": "d2e9cc5b-0cdf-4bbb-c54c-88dfe1082a88"
      },
      "execution_count": 17,
      "outputs": [
        {
          "output_type": "stream",
          "name": "stdout",
          "text": [
            "28.75\n"
          ]
        }
      ]
    },
    {
      "cell_type": "code",
      "source": [
        "areas = [\"hallway\",11.25,\"kitchen\", 18.0,\"living room\",20.0, \"bedroom\", 10.75, \"bathroom\", 9.50]\n",
        "downstairs = areas[:6]\n",
        "upstairs = areas[6:]\n",
        "print(downstairs)\n",
        "print(upstairs)\n"
      ],
      "metadata": {
        "colab": {
          "base_uri": "https://localhost:8080/"
        },
        "id": "iOLhfd8oQt9N",
        "outputId": "31a94d22-05ce-48b4-e6f8-eb103e4990fa"
      },
      "execution_count": 18,
      "outputs": [
        {
          "output_type": "stream",
          "name": "stdout",
          "text": [
            "['hallway', 11.25, 'kitchen', 18.0, 'living room', 20.0]\n",
            "['bedroom', 10.75, 'bathroom', 9.5]\n"
          ]
        }
      ]
    },
    {
      "cell_type": "code",
      "source": [
        "#lista da lista\n",
        "familia = [[\"hugo\",1.72],[\"darlene\", 1.60],[\"deci\",1.68],[\"gabriel\",1.65],[\"stefany\",1.00]]\n",
        "familia [0][1]\n",
        "familia [1][0]"
      ],
      "metadata": {
        "colab": {
          "base_uri": "https://localhost:8080/",
          "height": 35
        },
        "id": "xw520Zp7S_n5",
        "outputId": "72b3fa16-de9f-4654-9b15-3390aebccea0"
      },
      "execution_count": 36,
      "outputs": [
        {
          "output_type": "execute_result",
          "data": {
            "text/plain": [
              "'darlene'"
            ],
            "application/vnd.google.colaboratory.intrinsic+json": {
              "type": "string"
            }
          },
          "metadata": {},
          "execution_count": 36
        }
      ]
    },
    {
      "cell_type": "code",
      "source": [
        "house[1][-1]"
      ],
      "metadata": {
        "colab": {
          "base_uri": "https://localhost:8080/"
        },
        "id": "Y1HPHESYVfOf",
        "outputId": "fff360bf-3841-46b5-8b58-5ff885f6d88a"
      },
      "execution_count": 39,
      "outputs": [
        {
          "output_type": "execute_result",
          "data": {
            "text/plain": [
              "18.0"
            ]
          },
          "metadata": {},
          "execution_count": 39
        }
      ]
    },
    {
      "cell_type": "code",
      "source": [],
      "metadata": {
        "id": "zO8arjvNTzJB"
      },
      "execution_count": null,
      "outputs": []
    }
  ]
}