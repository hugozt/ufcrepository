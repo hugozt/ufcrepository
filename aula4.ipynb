{
  "nbformat": 4,
  "nbformat_minor": 0,
  "metadata": {
    "colab": {
      "provenance": [],
      "authorship_tag": "ABX9TyMAPMtKggT962MDIMu+NnzB",
      "include_colab_link": true
    },
    "kernelspec": {
      "name": "python3",
      "display_name": "Python 3"
    },
    "language_info": {
      "name": "python"
    }
  },
  "cells": [
    {
      "cell_type": "markdown",
      "metadata": {
        "id": "view-in-github",
        "colab_type": "text"
      },
      "source": [
        "<a href=\"https://colab.research.google.com/github/hugozt/ufcrepository/blob/main/aula4.ipynb\" target=\"_parent\"><img src=\"https://colab.research.google.com/assets/colab-badge.svg\" alt=\"Open In Colab\"/></a>"
      ]
    },
    {
      "cell_type": "markdown",
      "source": [
        "# funcoes"
      ],
      "metadata": {
        "id": "8f7f5oFY_zB_"
      }
    },
    {
      "cell_type": "code",
      "execution_count": null,
      "metadata": {
        "id": "znyruU7T9lOc"
      },
      "outputs": [],
      "source": [
        "def max_valor_lista(list_num)\n",
        "\n",
        "list_num = [2,1,5,10,5,20]\n",
        "\n",
        "maior_valor = None\n",
        "\n",
        "for numero in list_num:\n",
        "    if maior_valor == None:\n",
        "      maior_valor = numero\n",
        "    if numero > maior_valor:\n",
        "      maior_valor = numero\n",
        "    print(\"durante o loop:\", maior_valor)"
      ]
    },
    {
      "cell_type": "code",
      "source": [],
      "metadata": {
        "id": "n8S_FSkaIGhD"
      },
      "execution_count": null,
      "outputs": []
    },
    {
      "cell_type": "code",
      "source": [],
      "metadata": {
        "id": "l2IWBCqhIG_1"
      },
      "execution_count": null,
      "outputs": []
    },
    {
      "cell_type": "code",
      "source": [
        "# max\n",
        "fam = [1.73,1.68,1.71,1.89]\n",
        "max(fam)"
      ],
      "metadata": {
        "colab": {
          "base_uri": "https://localhost:8080/"
        },
        "id": "TjekXcWiIHne",
        "outputId": "d9f3938e-4550-4f94-8563-ebb903180a03"
      },
      "execution_count": 24,
      "outputs": [
        {
          "output_type": "execute_result",
          "data": {
            "text/plain": [
              "1.89"
            ]
          },
          "metadata": {},
          "execution_count": 24
        }
      ]
    },
    {
      "cell_type": "code",
      "source": [
        "# round\n",
        "\n",
        "round(1.68,1)\n",
        "\n",
        "round(1.68)\n",
        "\n"
      ],
      "metadata": {
        "colab": {
          "base_uri": "https://localhost:8080/"
        },
        "id": "eOxxBNNLIp75",
        "outputId": "a072d3f4-8191-4b4f-84cc-f45f966404e6"
      },
      "execution_count": 28,
      "outputs": [
        {
          "output_type": "execute_result",
          "data": {
            "text/plain": [
              "2"
            ]
          },
          "metadata": {},
          "execution_count": 28
        }
      ]
    },
    {
      "cell_type": "code",
      "source": [
        "# questao 1\n",
        "var1 = (1,2,3,4,5)\n",
        "var2 = True\n",
        "\n",
        "type(var1)"
      ],
      "metadata": {
        "colab": {
          "base_uri": "https://localhost:8080/"
        },
        "id": "kx8yjgB9J0To",
        "outputId": "24302207-13b2-4b99-c150-4c2f1338089e"
      },
      "execution_count": 37,
      "outputs": [
        {
          "output_type": "execute_result",
          "data": {
            "text/plain": [
              "tuple"
            ]
          },
          "metadata": {},
          "execution_count": 37
        }
      ]
    },
    {
      "cell_type": "code",
      "source": [
        "# questao 2\n",
        "len(var1)"
      ],
      "metadata": {
        "colab": {
          "base_uri": "https://localhost:8080/"
        },
        "id": "Pg0KNE2_MCQG",
        "outputId": "43d7df76-8684-4afb-be25-2aa981a5f9d8"
      },
      "execution_count": 39,
      "outputs": [
        {
          "output_type": "execute_result",
          "data": {
            "text/plain": [
              "5"
            ]
          },
          "metadata": {},
          "execution_count": 39
        }
      ]
    },
    {
      "cell_type": "code",
      "source": [
        "# questao 3\n",
        "out2 = int(var2)\n",
        "print(out2)"
      ],
      "metadata": {
        "colab": {
          "base_uri": "https://localhost:8080/"
        },
        "id": "BK6spKFILlNu",
        "outputId": "38a056de-8a09-4be3-bd4e-504a76e2a734"
      },
      "execution_count": 40,
      "outputs": [
        {
          "output_type": "stream",
          "name": "stdout",
          "text": [
            "1\n"
          ]
        }
      ]
    },
    {
      "cell_type": "code",
      "source": [
        "#questao 4\n",
        "first = [11.25,18.0, 20.0]\n",
        "second = []"
      ],
      "metadata": {
        "id": "9IhfnKo7MU6z"
      },
      "execution_count": null,
      "outputs": []
    },
    {
      "cell_type": "code",
      "source": [
        "#questao 5"
      ],
      "metadata": {
        "id": "xg6VER0XMXbF"
      },
      "execution_count": null,
      "outputs": []
    },
    {
      "cell_type": "code",
      "source": [
        "#questao 6"
      ],
      "metadata": {
        "id": "depu3ozFMbWX"
      },
      "execution_count": null,
      "outputs": []
    }
  ]
}